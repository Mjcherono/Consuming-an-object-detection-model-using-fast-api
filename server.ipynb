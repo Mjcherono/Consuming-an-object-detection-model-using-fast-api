{
 "cells": [
  {
   "cell_type": "markdown",
   "metadata": {},
   "source": [
    "Deploying a Machine Learning Model\n",
    "In this lab we will deploy a computer vision model trained to detect common objects in pictures.We'll use a pretrained model called [`YOLOV3`](https://pjreddie.com/darknet/yolo/). This model is very convenient for two reasons: it runs really fast, and for object detection it yields accurate results.\n",
    "\n",
    "The sequence of steps/tasks to complete in this lab are as follow:\n",
    "1. Inspect the image data set used for object detection\n",
    "2. Check the model itself\n",
    "3. Deploy the model using [`fastAPI`](https://fastapi.tiangolo.com/)"
   ]
  },
  {
   "cell_type": "markdown",
   "metadata": {},
   "source": [
    "## Object Detection with YOLOV3\n",
    "\n",
    "### Inspecting the images\n",
    "\n",
    "Let's take a look at the images that will be passed to the YOLOV3 model. This will bring insight on what type of common objects are present for detection. These images are part of the [`ImageNet`](http://www.image-net.org/index) dataset."
   ]
  },
  {
   "cell_type": "code",
   "execution_count": null,
   "metadata": {},
   "outputs": [],
   "source": [
    "from IPython.display import Image, display"
   ]
  },
  {
   "cell_type": "code",
   "execution_count": null,
   "metadata": {},
   "outputs": [],
   "source": [
    "# Some example images\n",
    "image_files = [\n",
    "    'apple.jpg',\n",
    "    'clock.jpg',\n",
    "    'oranges.jpg',\n",
    "    'car.jpg'\n",
    "]\n",
    "\n",
    "for image_file in image_files:\n",
    "    print(f\"\\nDisplaying image: {image_file}\")\n",
    "    display(Image(filename=f\"images/{image_file}\"))"
   ]
  },
  {
   "cell_type": "markdown",
   "metadata": {},
   "source": [
    "### Overview of the model\n",
    "\n",
    "Let's try and see if the model is able to detect and classify them correctly.\n",
    "\n",
    "For this you will be using [`cvlib`](https://www.cvlib.net/), which is a very simple but powerful library for object detection that is fueled by [`OpenCV`](https://docs.opencv.org/4.5.1/) and [`Tensorflow`](https://www.tensorflow.org/).\n",
    "\n",
    "More concretely, we will use the [`detect_common_objects`](https://docs.cvlib.net/object_detection/) function, which takes an image formatted as a [`numpy array`](https://numpy.org/doc/stable/reference/generated/numpy.array.html) and returns:\n",
    "\n",
    "- `bbox`: list of list containing bounding box coordinates for detected objects. \n",
    "\n",
    "        Example:\n",
    "    \n",
    "    ```python\n",
    "        [[32, 76, 128, 192], [130, 83, 220, 185]]\n",
    "    ```\n",
    "    \n",
    "\n",
    "- `label`: list of labels for detected objects.\n",
    "    \n",
    "        Example:\n",
    "    ```python\n",
    "        ['apple', 'apple']\n",
    "    ```\n",
    "\n",
    "\n",
    "- `conf`: list of confidence scores for detected objects.\n",
    "        Example:\n",
    "        \n",
    "    ```python\n",
    "        [0.6187325716018677, 0.42835739254951477]\n",
    "    ```\n",
    "    \n",
    "In the next section we will visually see these elements in action."
   ]
  },
  {
   "cell_type": "markdown",
   "metadata": {},
   "source": [
    "### Creating the detect_and_draw_box function\n",
    "\n",
    "Before using the object detection model, we create a directory where we can store the resulting images:\n"
   ]
  },
  {
   "cell_type": "code",
   "execution_count": 4,
   "metadata": {},
   "outputs": [],
   "source": [
    "import os\n",
    "\n",
    "dir_name = \"images_with_boxes\"\n",
    "if not os.path.exists(dir_name):\n",
    "    os.mkdir(dir_name)"
   ]
  },
  {
   "cell_type": "markdown",
   "metadata": {},
   "source": [
    "Let's define the `detect_and_draw_box` function which takes as input arguments: the **filename** of a file on the system, a **model**, and a **confidence level**. With these inputs, it detects common objects in the image and saves a new image displaying the bounding boxes alongside the detected object.\n",
    "\n",
    "You might ask yourself why does this function receive the model as an input argument? What models are there to choose from? The answer is that `detect_common_objects` uses the `yolov3` model by default.  However, there is another option available that is much tinier and requires less computational power. \n",
    "\n",
    "It is the `yolov3-tiny` version. As the model name indicates, this model is designed for constrained environments that cannot store big models. With this comes a natural tradeoff: the results are less accurate than the full model. However, it still works pretty well. Going forward, we recommend you stick to it since it is a lot smaller than the regular `yolov3` and downloading its pretrained weights takes less time.\n",
    "\n",
    "The model output is a vector of probabilities for the presence of different objects on the image. The last input argument, confidence level, determines the threshold that the probability needs to surpass to report that a given object is detected on the supplied image. By default, `detect_common_objects` uses a value of 0.5 for this."
   ]
  },
  {
   "cell_type": "code",
   "execution_count": null,
   "metadata": {},
   "outputs": [],
   "source": [
    "import cv2\n",
    "import cvlib as cv\n",
    "from cvlib.object_detection import draw_bbox\n",
    "\n",
    "\n",
    "def detect_and_draw_box(filename, model=\"yolov3-tiny\", confidence=0.5):\n",
    "    \"\"\"Detects common objects on an image and creates a new image with bounding boxes.\n",
    "\n",
    "    Args:\n",
    "        filename (str): Filename of the image.\n",
    "        model (str): Either \"yolov3\" or \"yolov3-tiny\". Defaults to \"yolov3-tiny\".\n",
    "        confidence (float, optional): Desired confidence level. Defaults to 0.5.\n",
    "    \"\"\"\n",
    "    \n",
    "    # Images are stored under the images/ directory\n",
    "    img_filepath = f'images/{filename}'\n",
    "    \n",
    "    # Read the image into a numpy array\n",
    "    img = cv2.imread(img_filepath)\n",
    "    \n",
    "    # Perform the object detection\n",
    "    bbox, label, conf = cv.detect_common_objects(img, confidence=confidence, model=model)\n",
    "    \n",
    "    # Print current image's filename\n",
    "    print(f\"========================\\nImage processed: {filename}\\n\")\n",
    "    \n",
    "    # Print detected objects with confidence level\n",
    "    for l, c in zip(label, conf):\n",
    "        print(f\"Detected object: {l} with confidence level of {c}\\n\")\n",
    "    \n",
    "    # Create a new image that includes the bounding boxes\n",
    "    output_image = draw_bbox(img, bbox, label, conf)\n",
    "    \n",
    "    # Save the image in the directory images_with_boxes\n",
    "    cv2.imwrite(f'images_with_boxes/{filename}', output_image)\n",
    "    \n",
    "    # Display the image with bounding boxes\n",
    "    display(Image(f'images_with_boxes/{filename}'))"
   ]
  },
  {
   "cell_type": "markdown",
   "metadata": {},
   "source": [
    "Let's try it out for the example images."
   ]
  },
  {
   "cell_type": "code",
   "execution_count": null,
   "metadata": {},
   "outputs": [],
   "source": [
    "for image_file in image_files:\n",
    "    detect_and_draw_box(image_file)"
   ]
  },
  {
   "cell_type": "markdown",
   "metadata": {},
   "source": [
    "## Changing the confidence level\n",
    "\n",
    "Looks like the object detection went fairly well. Let's try it out on a more difficult image containing several objects:"
   ]
  },
  {
   "cell_type": "code",
   "execution_count": null,
   "metadata": {},
   "outputs": [],
   "source": [
    "detect_and_draw_box(\"fruits.jpg\")"
   ]
  },
  {
   "cell_type": "markdown",
   "metadata": {},
   "source": [
    "The **model failed to detect** several fruits and **misclassified** an orange as an apple. This might seem strange since it was able to detect one apple before, so one might think the model has a fair representation on how an apple looks like.\n",
    "\n",
    "One possibility is that the model **did** detect the other fruits but with a confidence level lower than 0.5. Let's test if  this is a valid hypothesis:"
   ]
  },
  {
   "cell_type": "code",
   "execution_count": 8,
   "metadata": {},
   "outputs": [
    {
     "name": "stdout",
     "output_type": "stream",
     "text": [
      "========================\n",
      "Image processed: fruits.jpg\n",
      "\n",
      "Detected object: apple with confidence level of 0.5818483829498291\n",
      "\n",
      "Detected object: orange with confidence level of 0.5346482992172241\n",
      "\n",
      "Detected object: orange with confidence level of 0.515099287033081\n",
      "\n",
      "Detected object: apple with confidence level of 0.34759876132011414\n",
      "\n",
      "Detected object: orange with confidence level of 0.32876095175743103\n",
      "\n",
      "Detected object: apple with confidence level of 0.31244680285453796\n",
      "\n",
      "Detected object: orange with confidence level of 0.2798606753349304\n",
      "\n",
      "Detected object: orange with confidence level of 0.2749978303909302\n",
      "\n",
      "Detected object: apple with confidence level of 0.2744506895542145\n",
      "\n",
      "Detected object: orange with confidence level of 0.21419063210487366\n",
      "\n"
     ]
    },
    {
     "data": {
      "image/jpeg": "[encoded data removed]",
      "text/plain": [
       "<IPython.core.display.Image object>"
      ]
     },
     "metadata": {},
     "output_type": "display_data"
    }
   ],
   "source": [
    "detect_and_draw_box(\"fruits.jpg\", confidence=0.2)"
   ]
  },
  {
   "cell_type": "markdown",
   "metadata": {},
   "source": [
    "By lowering the confidence level the model successfully detects most of the fruits. However, in order to correctly detect the objects present, we had to  set the confidence level really low. In general, you should be careful when decreasing or increasing these kinds of parameters, as changing them might yield undesired results.\n",
    "\n",
    "As for this concrete example when an orange was misclassified as an apple, it serves as a reminder that these models are not perfect and this should be considered when using them for tasks in production."
   ]
  },
  {
   "cell_type": "markdown",
   "metadata": {},
   "source": [
    "## Deploying the model using fastAPI\n",
    "\n",
    "\n",
    "### Placing your object detection model in a server\n",
    "\n",
    "Now that the model works it is time to deploy it! \n",
    "Before diving into deployment, let's quickly recap some important concepts and how they translate to `fastAPI`. Let's also create a directory to store the images that are uploaded to the server."
   ]
  },
  {
   "cell_type": "code",
   "execution_count": 9,
   "metadata": {},
   "outputs": [],
   "source": [
    "dir_name = \"images_uploaded\"\n",
    "if not os.path.exists(dir_name):\n",
    "    os.mkdir(dir_name)"
   ]
  },
  {
   "cell_type": "markdown",
   "metadata": {},
   "source": [
    "### Why fastAPI?\n",
    "\n",
    "With fastAPI you can create web servers to host your models very easily. Additionally, this platform is extremely fast and it **has a built-in client that can be used to interact with the server**. "
   ]
  },
  {
   "cell_type": "code",
   "execution_count": 10,
   "metadata": {},
   "outputs": [],
   "source": [
    "import io\n",
    "import uvicorn\n",
    "import numpy as np\n",
    "import nest_asyncio\n",
    "from enum import Enum\n",
    "from fastapi import FastAPI, UploadFile, File, HTTPException\n",
    "from fastapi.responses import StreamingResponse"
   ]
  },
  {
   "cell_type": "code",
   "execution_count": 11,
   "metadata": {},
   "outputs": [],
   "source": [
    "# Assign an instance of the FastAPI class to the variable \"app\".\n",
    "# You will interact with your api using this instance.\n",
    "app = FastAPI(title='Deploying a ML Model with FastAPI')\n",
    "\n",
    "# List available models using Enum for convenience. This is useful when the options are pre-defined.\n",
    "class Model(str, Enum):\n",
    "    yolov3tiny = \"yolov3-tiny\"\n",
    "    yolov3 = \"yolov3\"\n",
    "\n",
    "\n",
    "# By using @app.get(\"/\") you are allowing the GET method to work for the / endpoint.\n",
    "@app.get(\"/\")\n",
    "def home():\n",
    "    return \"Congratulations! Your API is working as expected. Now head over to http://localhost:8000/docs.\"\n",
    "\n",
    "\n",
    "# This endpoint handles all the logic necessary for the object detection to work.\n",
    "# It requires the desired model and the image in which to perform object detection.\n",
    "@app.post(\"/predict\") \n",
    "def prediction(model: Model, file: UploadFile = File(...)):\n",
    "\n",
    "    # 1. VALIDATE INPUT FILE\n",
    "    filename = file.filename\n",
    "    fileExtension = filename.split(\".\")[-1] in (\"jpg\", \"jpeg\", \"png\")\n",
    "    if not fileExtension:\n",
    "        raise HTTPException(status_code=415, detail=\"Unsupported file provided.\")\n",
    "    \n",
    "    # 2. TRANSFORM RAW IMAGE INTO CV2 image\n",
    "    \n",
    "    # Read image as a stream of bytes\n",
    "    image_stream = io.BytesIO(file.file.read())\n",
    "    \n",
    "    # Start the stream from the beginning (position zero)\n",
    "    image_stream.seek(0)\n",
    "    \n",
    "    # Write the stream of bytes into a numpy array\n",
    "    file_bytes = np.asarray(bytearray(image_stream.read()), dtype=np.uint8)\n",
    "    \n",
    "    # Decode the numpy array as an image\n",
    "    image = cv2.imdecode(file_bytes, cv2.IMREAD_COLOR)\n",
    "    \n",
    "    \n",
    "    # 3. RUN OBJECT DETECTION MODEL\n",
    "    \n",
    "    # Run object detection\n",
    "    bbox, label, conf = cv.detect_common_objects(image, model=model)\n",
    "    \n",
    "    # Create image that includes bounding boxes and labels\n",
    "    output_image = draw_bbox(image, bbox, label, conf)\n",
    "    \n",
    "    # Save it in a folder within the server\n",
    "    cv2.imwrite(f'images_uploaded/{filename}', output_image)\n",
    "    \n",
    "    \n",
    "    # 4. STREAM THE RESPONSE BACK TO THE CLIENT\n",
    "    \n",
    "    # Open the saved image for reading in binary mode\n",
    "    file_image = open(f'images_uploaded/{filename}', mode=\"rb\")\n",
    "    \n",
    "    # Return the image as a stream specifying media type\n",
    "    return StreamingResponse(file_image, media_type=\"image/jpeg\")"
   ]
  },
  {
   "cell_type": "markdown",
   "metadata": {},
   "source": [
    "By running the following cell the server will spin up!"
   ]
  },
  {
   "cell_type": "code",
   "execution_count": null,
   "metadata": {},
   "outputs": [
    {
     "name": "stderr",
     "output_type": "stream",
     "text": [
      "INFO:     Started server process [74552]\n",
      "INFO:     Waiting for application startup.\n",
      "INFO:     Application startup complete.\n",
      "INFO:     Uvicorn running on http://127.0.0.1:8000 (Press CTRL+C to quit)\n"
     ]
    },
    {
     "name": "stdout",
     "output_type": "stream",
     "text": [
      "INFO:     127.0.0.1:53791 - \"GET / HTTP/1.1\" 200 OK\n",
      "INFO:     127.0.0.1:53791 - \"GET /favicon.ico HTTP/1.1\" 404 Not Found\n",
      "INFO:     127.0.0.1:53793 - \"GET /docs HTTP/1.1\" 200 OK\n",
      "INFO:     127.0.0.1:53793 - \"GET /openapi.json HTTP/1.1\" 200 OK\n",
      "INFO:     127.0.0.1:53877 - \"POST /predict?model=yolov3-tiny HTTP/1.1\" 200 OK\n",
      "INFO:     127.0.0.1:53890 - \"POST /predict?model=yolov3-tiny HTTP/1.1\" 200 OK\n",
      "INFO:     127.0.0.1:53948 - \"POST /predict?model=yolov3-tiny HTTP/1.1\" 200 OK\n",
      "INFO:     127.0.0.1:54421 - \"POST /predict?model=yolov3-tiny HTTP/1.1\" 200 OK\n",
      "INFO:     127.0.0.1:54573 - \"POST /predict?model=yolov3-tiny HTTP/1.1\" 200 OK\n",
      "INFO:     127.0.0.1:54626 - \"POST /predict?model=yolov3-tiny HTTP/1.1\" 200 OK\n",
      "INFO:     127.0.0.1:54628 - \"POST /predict?model=yolov3-tiny HTTP/1.1\" 200 OK\n",
      "INFO:     127.0.0.1:54630 - \"POST /predict?model=yolov3-tiny HTTP/1.1\" 200 OK\n",
      "INFO:     127.0.0.1:57669 - \"POST /predict?model=yolov3-tiny HTTP/1.1\" 200 OK\n"
     ]
    }
   ],
   "source": [
    "# Allows the server to be run in this interactive environment\n",
    "nest_asyncio.apply()\n",
    "\n",
    "# Host depends on the setup you selected (docker or virtual env)\n",
    "host = \"0.0.0.0\" if os.getenv(\"DOCKER-SETUP\") else \"127.0.0.1\"\n",
    "\n",
    "# Spin up the server!    \n",
    "uvicorn.run(app, host=host, port=8000)"
   ]
  },
  {
   "cell_type": "code",
   "execution_count": null,
   "metadata": {},
   "outputs": [],
   "source": []
  }
 ],
 "metadata": {
  "kernelspec": {
   "display_name": "Python 3 (ipykernel)",
   "language": "python",
   "name": "python3"
  },
  "language_info": {
   "codemirror_mode": {
    "name": "ipython",
    "version": 3
   },
   "file_extension": ".py",
   "mimetype": "text/x-python",
   "name": "python",
   "nbconvert_exporter": "python",
   "pygments_lexer": "ipython3",
   "version": "3.8.9"
  }
 },
 "nbformat": 4,
 "nbformat_minor": 4
}
